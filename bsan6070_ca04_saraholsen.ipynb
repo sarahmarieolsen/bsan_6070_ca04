{
  "nbformat": 4,
  "nbformat_minor": 0,
  "metadata": {
    "colab": {
      "name": "bsan6070_ca04_saraholsen.ipynb",
      "provenance": [],
      "collapsed_sections": []
    },
    "kernelspec": {
      "name": "python3",
      "display_name": "Python 3"
    },
    "language_info": {
      "name": "python"
    }
  },
  "cells": [
    {
      "cell_type": "markdown",
      "source": [
        "**CA04 Ensemble Models** - BSAN 6070\n",
        "\n",
        "Sarah Olsen✌"
      ],
      "metadata": {
        "id": "qp3Nkwj0PSzp"
      }
    },
    {
      "cell_type": "markdown",
      "source": [
        "**PART 1**\n",
        " \n",
        "*1.  Data Source and Contents*\n",
        "\n",
        "This dataset is obtained from the Census Bureau and represents salaries of people along with seven demographic variables. The following is a description of the dataset: \n",
        "*   Number of target classes: 2 ('>50K' and '<=50K') [ Labels: 1, 0 ] \n",
        "*   Number of attributes (Columns): 7 \n",
        "*   Number of instances (Rows): 48,842\n",
        "\n",
        "Using a test set and training set, predetermined by the data in the 'flag' column, we will apply a decision tree algorithm using the seven attributes to predict whether a person's salary is above or below 50k.\n",
        "\n",
        "For this predictive model, discrete variables makes more sense than the exact numerical values on a scale. That is why the continuous data columns have already been transformed into predetermined data groups/data blocks using the binning/discretization technique."
      ],
      "metadata": {
        "id": "n5Bn_UbJPeD6"
      }
    },
    {
      "cell_type": "code",
      "execution_count": null,
      "metadata": {
        "colab": {
          "base_uri": "https://localhost:8080/",
          "height": 206
        },
        "id": "jTWnXB6dPKmN",
        "outputId": "6a0fbc78-134f-4c6f-9811-25f8dc4904f4"
      },
      "outputs": [
        {
          "output_type": "execute_result",
          "data": {
            "text/plain": [
              "  hours_per_week_bin occupation_bin  msr_bin capital_gl_bin race_sex_bin  \\\n",
              "0           b. 31-40   b. Mid - Low   b. Mid         c. > 0      c. High   \n",
              "1            a. 0-30        e. High  c. High         a. = 0      c. High   \n",
              "2           b. 31-40         a. Low   b. Mid         a. = 0      c. High   \n",
              "3           b. 31-40         a. Low  c. High         a. = 0       b. Mid   \n",
              "4           b. 31-40        e. High  c. High         a. = 0       a. Low   \n",
              "\n",
              "  education_num_bin education_bin workclass_bin            age_bin   flag  y  \n",
              "0             c. 13  c. Bachelors     b. income   d. 36-40 & 56-60  train  0  \n",
              "1             c. 13  c. Bachelors     b. income           e. 40-55  train  0  \n",
              "2           b. 9-12        b. Mid     b. income   d. 36-40 & 56-60  train  0  \n",
              "3            a. 0-8        a. Low     b. income           e. 40-55  train  0  \n",
              "4             c. 13  c. Bachelors     b. income  b. 26-30 & 71-100  train  0  "
            ],
            "text/html": [
              "\n",
              "  <div id=\"df-6079717e-00c6-48a4-aa88-fe1fc21f3586\">\n",
              "    <div class=\"colab-df-container\">\n",
              "      <div>\n",
              "<style scoped>\n",
              "    .dataframe tbody tr th:only-of-type {\n",
              "        vertical-align: middle;\n",
              "    }\n",
              "\n",
              "    .dataframe tbody tr th {\n",
              "        vertical-align: top;\n",
              "    }\n",
              "\n",
              "    .dataframe thead th {\n",
              "        text-align: right;\n",
              "    }\n",
              "</style>\n",
              "<table border=\"1\" class=\"dataframe\">\n",
              "  <thead>\n",
              "    <tr style=\"text-align: right;\">\n",
              "      <th></th>\n",
              "      <th>hours_per_week_bin</th>\n",
              "      <th>occupation_bin</th>\n",
              "      <th>msr_bin</th>\n",
              "      <th>capital_gl_bin</th>\n",
              "      <th>race_sex_bin</th>\n",
              "      <th>education_num_bin</th>\n",
              "      <th>education_bin</th>\n",
              "      <th>workclass_bin</th>\n",
              "      <th>age_bin</th>\n",
              "      <th>flag</th>\n",
              "      <th>y</th>\n",
              "    </tr>\n",
              "  </thead>\n",
              "  <tbody>\n",
              "    <tr>\n",
              "      <th>0</th>\n",
              "      <td>b. 31-40</td>\n",
              "      <td>b. Mid - Low</td>\n",
              "      <td>b. Mid</td>\n",
              "      <td>c. &gt; 0</td>\n",
              "      <td>c. High</td>\n",
              "      <td>c. 13</td>\n",
              "      <td>c. Bachelors</td>\n",
              "      <td>b. income</td>\n",
              "      <td>d. 36-40 &amp; 56-60</td>\n",
              "      <td>train</td>\n",
              "      <td>0</td>\n",
              "    </tr>\n",
              "    <tr>\n",
              "      <th>1</th>\n",
              "      <td>a. 0-30</td>\n",
              "      <td>e. High</td>\n",
              "      <td>c. High</td>\n",
              "      <td>a. = 0</td>\n",
              "      <td>c. High</td>\n",
              "      <td>c. 13</td>\n",
              "      <td>c. Bachelors</td>\n",
              "      <td>b. income</td>\n",
              "      <td>e. 40-55</td>\n",
              "      <td>train</td>\n",
              "      <td>0</td>\n",
              "    </tr>\n",
              "    <tr>\n",
              "      <th>2</th>\n",
              "      <td>b. 31-40</td>\n",
              "      <td>a. Low</td>\n",
              "      <td>b. Mid</td>\n",
              "      <td>a. = 0</td>\n",
              "      <td>c. High</td>\n",
              "      <td>b. 9-12</td>\n",
              "      <td>b. Mid</td>\n",
              "      <td>b. income</td>\n",
              "      <td>d. 36-40 &amp; 56-60</td>\n",
              "      <td>train</td>\n",
              "      <td>0</td>\n",
              "    </tr>\n",
              "    <tr>\n",
              "      <th>3</th>\n",
              "      <td>b. 31-40</td>\n",
              "      <td>a. Low</td>\n",
              "      <td>c. High</td>\n",
              "      <td>a. = 0</td>\n",
              "      <td>b. Mid</td>\n",
              "      <td>a. 0-8</td>\n",
              "      <td>a. Low</td>\n",
              "      <td>b. income</td>\n",
              "      <td>e. 40-55</td>\n",
              "      <td>train</td>\n",
              "      <td>0</td>\n",
              "    </tr>\n",
              "    <tr>\n",
              "      <th>4</th>\n",
              "      <td>b. 31-40</td>\n",
              "      <td>e. High</td>\n",
              "      <td>c. High</td>\n",
              "      <td>a. = 0</td>\n",
              "      <td>a. Low</td>\n",
              "      <td>c. 13</td>\n",
              "      <td>c. Bachelors</td>\n",
              "      <td>b. income</td>\n",
              "      <td>b. 26-30 &amp; 71-100</td>\n",
              "      <td>train</td>\n",
              "      <td>0</td>\n",
              "    </tr>\n",
              "  </tbody>\n",
              "</table>\n",
              "</div>\n",
              "      <button class=\"colab-df-convert\" onclick=\"convertToInteractive('df-6079717e-00c6-48a4-aa88-fe1fc21f3586')\"\n",
              "              title=\"Convert this dataframe to an interactive table.\"\n",
              "              style=\"display:none;\">\n",
              "        \n",
              "  <svg xmlns=\"http://www.w3.org/2000/svg\" height=\"24px\"viewBox=\"0 0 24 24\"\n",
              "       width=\"24px\">\n",
              "    <path d=\"M0 0h24v24H0V0z\" fill=\"none\"/>\n",
              "    <path d=\"M18.56 5.44l.94 2.06.94-2.06 2.06-.94-2.06-.94-.94-2.06-.94 2.06-2.06.94zm-11 1L8.5 8.5l.94-2.06 2.06-.94-2.06-.94L8.5 2.5l-.94 2.06-2.06.94zm10 10l.94 2.06.94-2.06 2.06-.94-2.06-.94-.94-2.06-.94 2.06-2.06.94z\"/><path d=\"M17.41 7.96l-1.37-1.37c-.4-.4-.92-.59-1.43-.59-.52 0-1.04.2-1.43.59L10.3 9.45l-7.72 7.72c-.78.78-.78 2.05 0 2.83L4 21.41c.39.39.9.59 1.41.59.51 0 1.02-.2 1.41-.59l7.78-7.78 2.81-2.81c.8-.78.8-2.07 0-2.86zM5.41 20L4 18.59l7.72-7.72 1.47 1.35L5.41 20z\"/>\n",
              "  </svg>\n",
              "      </button>\n",
              "      \n",
              "  <style>\n",
              "    .colab-df-container {\n",
              "      display:flex;\n",
              "      flex-wrap:wrap;\n",
              "      gap: 12px;\n",
              "    }\n",
              "\n",
              "    .colab-df-convert {\n",
              "      background-color: #E8F0FE;\n",
              "      border: none;\n",
              "      border-radius: 50%;\n",
              "      cursor: pointer;\n",
              "      display: none;\n",
              "      fill: #1967D2;\n",
              "      height: 32px;\n",
              "      padding: 0 0 0 0;\n",
              "      width: 32px;\n",
              "    }\n",
              "\n",
              "    .colab-df-convert:hover {\n",
              "      background-color: #E2EBFA;\n",
              "      box-shadow: 0px 1px 2px rgba(60, 64, 67, 0.3), 0px 1px 3px 1px rgba(60, 64, 67, 0.15);\n",
              "      fill: #174EA6;\n",
              "    }\n",
              "\n",
              "    [theme=dark] .colab-df-convert {\n",
              "      background-color: #3B4455;\n",
              "      fill: #D2E3FC;\n",
              "    }\n",
              "\n",
              "    [theme=dark] .colab-df-convert:hover {\n",
              "      background-color: #434B5C;\n",
              "      box-shadow: 0px 1px 3px 1px rgba(0, 0, 0, 0.15);\n",
              "      filter: drop-shadow(0px 1px 2px rgba(0, 0, 0, 0.3));\n",
              "      fill: #FFFFFF;\n",
              "    }\n",
              "  </style>\n",
              "\n",
              "      <script>\n",
              "        const buttonEl =\n",
              "          document.querySelector('#df-6079717e-00c6-48a4-aa88-fe1fc21f3586 button.colab-df-convert');\n",
              "        buttonEl.style.display =\n",
              "          google.colab.kernel.accessAllowed ? 'block' : 'none';\n",
              "\n",
              "        async function convertToInteractive(key) {\n",
              "          const element = document.querySelector('#df-6079717e-00c6-48a4-aa88-fe1fc21f3586');\n",
              "          const dataTable =\n",
              "            await google.colab.kernel.invokeFunction('convertToInteractive',\n",
              "                                                     [key], {});\n",
              "          if (!dataTable) return;\n",
              "\n",
              "          const docLinkHtml = 'Like what you see? Visit the ' +\n",
              "            '<a target=\"_blank\" href=https://colab.research.google.com/notebooks/data_table.ipynb>data table notebook</a>'\n",
              "            + ' to learn more about interactive tables.';\n",
              "          element.innerHTML = '';\n",
              "          dataTable['output_type'] = 'display_data';\n",
              "          await google.colab.output.renderOutput(dataTable, element);\n",
              "          const docLink = document.createElement('div');\n",
              "          docLink.innerHTML = docLinkHtml;\n",
              "          element.appendChild(docLink);\n",
              "        }\n",
              "      </script>\n",
              "    </div>\n",
              "  </div>\n",
              "  "
            ]
          },
          "metadata": {},
          "execution_count": 1
        }
      ],
      "source": [
        "#Import some useful libraries\n",
        "import pandas as pd\n",
        "import numpy as np\n",
        "import matplotlib.pyplot as plt\n",
        "from sklearn.model_selection import train_test_split\n",
        "import xgboost as xgb\n",
        "from sklearn.datasets import make_classification\n",
        "from sklearn.ensemble import RandomForestClassifier\n",
        "from sklearn.ensemble import AdaBoostClassifier\n",
        "from sklearn.ensemble import GradientBoostingClassifier\n",
        "from sklearn import metrics\n",
        "from sklearn import tree\n",
        "from sklearn.metrics import accuracy_score\n",
        "\n",
        "#Read in the dataset from Github\n",
        "data = pd.read_csv('https://github.com/ArinB/MSBA-CA-Data/blob/main/CA03/census_data.csv?raw=true')\n",
        "\n",
        "#Check the first few rows\n",
        "data.head()"
      ]
    },
    {
      "cell_type": "markdown",
      "source": [
        "**PART 2**\n",
        " \n",
        "*1.  Finding Optimal Value of a key Hyper-parameter*\n",
        "\n",
        "For Ensemble Models, one of the key hyper-parameter is number of “estimators\". Following is an example of fining the optimal value of “Maximum Depth”. Review the following code snippet to understand how the optimal value of this hyper-parameter (Max Depth = 10) is found by plotting a graph.\n"
      ],
      "metadata": {
        "id": "Beaz-RBzQrLx"
      }
    },
    {
      "cell_type": "markdown",
      "source": [
        "**PART 3**\n",
        " \n",
        "*3.  Building a Random Forest Model*\n",
        "\n",
        "Train a Random Forest Model. Using similar approach of Section 2 above, plot a graph of Accuracy vs. n_estimator. Use n_estimator values as [50,100,150,200,250,300,350,400,450,500]."
      ],
      "metadata": {
        "id": "IXrMLP8RRCZV"
      }
    },
    {
      "cell_type": "code",
      "source": [
        "# Make a list of the input variables\n",
        "columns = ['hours_per_week_bin',\t'occupation_bin',\t'msr_bin',\t'capital_gl_bin',\t'race_sex_bin',\t'education_num_bin',\t'education_bin',\t'workclass_bin',\t'age_bin']"
      ],
      "metadata": {
        "id": "Php6llUBWKID"
      },
      "execution_count": null,
      "outputs": []
    },
    {
      "cell_type": "code",
      "source": [
        "# Create training and test sets (split the data)\n",
        "data_training = data[data['flag']=='train']\n",
        "data_test = data[data['flag']=='test']\n",
        "x_train = pd.get_dummies(data_training[columns])\n",
        "y_train = data_training['y']\n",
        "x_test = pd.get_dummies(data_test[columns])\n",
        "y_test = data_test['y']\n",
        "\n",
        "# Check the shape of each dataframe\n",
        "print(x_train.shape, x_test.shape, y_train.shape, y_test.shape)"
      ],
      "metadata": {
        "id": "RmBvDFyCeSKr",
        "colab": {
          "base_uri": "https://localhost:8080/"
        },
        "outputId": "6ddf5915-da40-425e-ce8f-a520b7282d64"
      },
      "execution_count": null,
      "outputs": [
        {
          "output_type": "stream",
          "name": "stdout",
          "text": [
            "(32561, 36) (16281, 36) (32561,) (16281,)\n"
          ]
        }
      ]
    },
    {
      "cell_type": "code",
      "source": [
        "# Reset column names to remove the special symbols [<>,], as these characters will cause errors later in this program\n",
        "x_train.columns = range(x_train.columns.size)\n",
        "x_test.columns = range(x_test.columns.size)"
      ],
      "metadata": {
        "id": "aFY15PTpw2bC"
      },
      "execution_count": null,
      "outputs": []
    },
    {
      "cell_type": "code",
      "source": [
        "# Create the n_estimator values list to cycle through in each model\n",
        "n_estimator_values = [50,100,150,200,250,300,350,400,450,500]"
      ],
      "metadata": {
        "id": "YMuwXApnnxpW"
      },
      "execution_count": null,
      "outputs": []
    },
    {
      "cell_type": "code",
      "source": [
        "# Create empty set to use for plotting accuracy vs n_estimator\n",
        "results = []\n",
        "\n",
        "# Define the random forest model\n",
        "for trees in n_estimator_values:\n",
        "  model = RandomForestClassifier(n_estimators = trees)\n",
        "  # Fit the model on the whole dataset\n",
        "  model.fit(x_train, y_train)\n",
        "  # Predict the outcomes y of the test data using the x inputs\n",
        "  y_pred = model.predict(x_test)\n",
        "  # Calculate the accuracy score of the model\n",
        "  accuracy = np.mean(y_test==y_pred)\n",
        "  # Append the accuracy score to the list of accuracy scores corresponding to this n_estimators value in n_estimator_values\n",
        "  results.append(accuracy)\n",
        "\n",
        "# Plot the graph of accuracy vs n_estimator\n",
        "plt.figure(figsize=(8,4))\n",
        "pd.Series(results, n_estimator_values).plot(color='purple', marker='o')\n",
        "plt.title('Accuracy vs n_estimators Value')"
      ],
      "metadata": {
        "colab": {
          "base_uri": "https://localhost:8080/",
          "height": 299
        },
        "id": "kqikpomPS4JB",
        "outputId": "e0f5acb9-af0e-469a-fa9c-659226964a8b"
      },
      "execution_count": null,
      "outputs": [
        {
          "output_type": "execute_result",
          "data": {
            "text/plain": [
              "Text(0.5, 1.0, 'Accuracy vs n_estimators Value')"
            ]
          },
          "metadata": {},
          "execution_count": 6
        },
        {
          "output_type": "display_data",
          "data": {
            "text/plain": [
              "<Figure size 576x288 with 1 Axes>"
            ],
            "image/png": "[encoded data removed]"
          },
          "metadata": {
            "needs_background": "light"
          }
        }
      ]
    },
    {
      "cell_type": "markdown",
      "source": [
        "**Question 3.1**\n",
        "\n",
        "*Write your observations about the Classifier’s behavior with respect to the number of estimators.*\n",
        "\n",
        "It seems that the higher the value of the n_estimator, the more accurate the model is. Even though the model is accurately predicting, that doesn't necessarily mean that the model is the best model. I would want to look at the AUC and other measures to make sure that there's no classification imbalance in the training data affecting the usefulness of the model."
      ],
      "metadata": {
        "id": "SPmCxIBsn8D6"
      }
    },
    {
      "cell_type": "markdown",
      "source": [
        "**Question 3.2**\n",
        "\n",
        "*Is there an optimal value of the estimator within the given range?*\n",
        "\n",
        "At first glance, the best model has an n_estimator value of 450 with an accuracy score of about 0.84 or 84%. This n_estimator produces the highest accuracy, but that doesn't mean it is explainable or useful. I would need to look at other measures of accuracy.\n"
      ],
      "metadata": {
        "id": "37rW7BZFoX8v"
      }
    },
    {
      "cell_type": "markdown",
      "source": [
        "**PART 4**\n",
        " \n",
        "*Building AdaBoost, Gradient Boost (classifier) and XGB Model*\n",
        "\n",
        "***1. Building AdaBoost Model***\n",
        "\n",
        "Train the model and plot a graph of Accuracy vs. n_estimator. Use n_estimator values as [50,100,150,200,250,300,350,400,450,500]."
      ],
      "metadata": {
        "id": "i6Aou5JsqUhW"
      }
    },
    {
      "cell_type": "code",
      "source": [
        "# Create empty set to use for plotting accuracy vs n_estimator\n",
        "results = []\n",
        "\n",
        "# Define the AdaBoost model\n",
        "for trees in n_estimator_values:\n",
        "  model = AdaBoostClassifier(n_estimators = trees)\n",
        "  # Fit the model on the whole dataset\n",
        "  model.fit(x_train, y_train)\n",
        "  # Predict the outcomes y of the test data using the x inputs\n",
        "  y_pred = model.predict(x_test)\n",
        "  # Calculate the accuracy score of the model\n",
        "  accuracy = np.mean(y_test==y_pred)\n",
        "  # Append the accuracy score to the list of accuracy scores corresponding to this n_estimators value in n_estimator_values\n",
        "  results.append(accuracy)\n",
        "\n",
        "# Plot the graph of accuracy vs n_estimator\n",
        "plt.figure(figsize=(8,4))\n",
        "pd.Series(results, n_estimator_values).plot(color='purple', marker='o')\n",
        "plt.title('Accuracy vs n_estimators Value')"
      ],
      "metadata": {
        "colab": {
          "base_uri": "https://localhost:8080/",
          "height": 299
        },
        "id": "5YtBlF4vq0mg",
        "outputId": "14615fd8-c1e4-4f81-fe38-7227f6d90c60"
      },
      "execution_count": null,
      "outputs": [
        {
          "output_type": "execute_result",
          "data": {
            "text/plain": [
              "Text(0.5, 1.0, 'Accuracy vs n_estimators Value')"
            ]
          },
          "metadata": {},
          "execution_count": 7
        },
        {
          "output_type": "display_data",
          "data": {
            "text/plain": [
              "<Figure size 576x288 with 1 Axes>"
            ],
            "image/png": "[encoded data removed]"
          },
          "metadata": {
            "needs_background": "light"
          }
        }
      ]
    },
    {
      "cell_type": "markdown",
      "source": [
        "**Question 4.1.2**\n",
        "\n",
        "*Write your observations about the Classifier’s behavior with respect to the number of estimators.*\n",
        "\n",
        "The lowest value of the n_estimator, the more accurate the model is. The values for n_estimator >= 100 are significantly less accurate. This is strange because usually with a higher amount of trees, the more accurate a model is expected perform."
      ],
      "metadata": {
        "id": "CQpl0a-OT_sk"
      }
    },
    {
      "cell_type": "markdown",
      "source": [
        "**Question 4.1.3**\n",
        "\n",
        "*Is there an optimal value of the estimator within the given range?*\n",
        "\n",
        "Yes, it is easy to see that the optimal estimator is 50."
      ],
      "metadata": {
        "id": "LK08KAdeU6r6"
      }
    },
    {
      "cell_type": "markdown",
      "source": [
        "***2. Building Gradient Boost (classifier)***\n",
        "\n",
        "Train the model and plot a graph of Accuracy vs. n_estimator. Use n_estimator values as [50,100,150,200,250,300,350,400,450,500]."
      ],
      "metadata": {
        "id": "GX1PGbgX3xoH"
      }
    },
    {
      "cell_type": "code",
      "source": [
        "# Create empty set to use for plotting accuracy vs n_estimator\n",
        "results = []\n",
        "\n",
        "# Define the AdaBoost model\n",
        "for trees in n_estimator_values:\n",
        "  model = GradientBoostingClassifier(n_estimators = trees)\n",
        "  # Fit the model on the whole dataset\n",
        "  model.fit(x_train, y_train)\n",
        "  # Predict the outcomes y of the test data using the x inputs\n",
        "  y_pred = model.predict(x_test)\n",
        "  # Calculate the accuracy score of the model\n",
        "  accuracy = np.mean(y_test==y_pred)\n",
        "  # Append the accuracy score to the list of accuracy scores corresponding to this n_estimators value in n_estimator_values\n",
        "  results.append(accuracy)\n",
        "\n",
        "# Plot the graph of accuracy vs n_estimator\n",
        "plt.figure(figsize=(8,4))\n",
        "pd.Series(results, n_estimator_values).plot(color='purple', marker='o')\n",
        "plt.title('Accuracy vs n_estimators Value')"
      ],
      "metadata": {
        "colab": {
          "base_uri": "https://localhost:8080/",
          "height": 299
        },
        "id": "N52DBrnq5ATE",
        "outputId": "97e57c3b-13f8-471c-f3cc-5880b65d5901"
      },
      "execution_count": null,
      "outputs": [
        {
          "output_type": "execute_result",
          "data": {
            "text/plain": [
              "Text(0.5, 1.0, 'Accuracy vs n_estimators Value')"
            ]
          },
          "metadata": {},
          "execution_count": 8
        },
        {
          "output_type": "display_data",
          "data": {
            "text/plain": [
              "<Figure size 576x288 with 1 Axes>"
            ],
            "image/png": "[encoded data removed]"
          },
          "metadata": {
            "needs_background": "light"
          }
        }
      ]
    },
    {
      "cell_type": "markdown",
      "source": [
        "**Question 4.2.2**\n",
        "\n",
        "*Write your observations about the Classifier’s behavior with respect to the number of estimators.*\n",
        "\n",
        "This model is behaving the opposite of what is expected. The higher the amount of trees, the lower the accuracy of the model."
      ],
      "metadata": {
        "id": "iCNEGAgnUnTR"
      }
    },
    {
      "cell_type": "markdown",
      "source": [
        "**Question 4.2.3**\n",
        "\n",
        "*Is there an optimal value of the estimator within the given range?*\n",
        "\n",
        "Yes, similar to the AdaBoost model, the optimal estimator for the Gradient Boost model is 50."
      ],
      "metadata": {
        "id": "zr7FRQTTVD00"
      }
    },
    {
      "cell_type": "markdown",
      "source": [
        "***3. Building XGB Model***\n",
        "\n",
        "Train the model and plot a graph of Accuracy vs. n_estimator. Use n_estimator values as [50,100,150,200,250,300,350,400,450,500]."
      ],
      "metadata": {
        "id": "VNjIIX9Y31gZ"
      }
    },
    {
      "cell_type": "code",
      "source": [
        "# Create empty set to use for plotting accuracy vs n_estimator\n",
        "results = []\n",
        "\n",
        "# Define the AdaBoost model\n",
        "for trees in n_estimator_values:\n",
        "  model = xgb.XGBClassifier(n_estimators = trees)\n",
        "  # Fit the model on the whole dataset\n",
        "  model.fit(x_train, y_train)\n",
        "  # Predict the outcomes y of the test data using the x inputs\n",
        "  y_pred = model.predict(x_test)\n",
        "  # Calculate the accuracy score of the model\n",
        "  accuracy = np.mean(y_test==y_pred)\n",
        "  # Append the accuracy score to the list of accuracy scores corresponding to this n_estimators value in n_estimator_values\n",
        "  results.append(accuracy)\n",
        "\n",
        "# Plot the graph of accuracy vs n_estimator\n",
        "plt.figure(figsize=(8,4))\n",
        "pd.Series(results, n_estimator_values).plot(color='purple', marker='o')\n",
        "plt.title('Accuracy vs n_estimators Value')"
      ],
      "metadata": {
        "colab": {
          "base_uri": "https://localhost:8080/",
          "height": 299
        },
        "id": "oxyAlOj45kad",
        "outputId": "c7f47fb0-efdc-4180-cc36-243136921f58"
      },
      "execution_count": null,
      "outputs": [
        {
          "output_type": "execute_result",
          "data": {
            "text/plain": [
              "Text(0.5, 1.0, 'Accuracy vs n_estimators Value')"
            ]
          },
          "metadata": {},
          "execution_count": 9
        },
        {
          "output_type": "display_data",
          "data": {
            "text/plain": [
              "<Figure size 576x288 with 1 Axes>"
            ],
            "image/png": "[encoded data removed]"
          },
          "metadata": {
            "needs_background": "light"
          }
        }
      ]
    },
    {
      "cell_type": "markdown",
      "source": [
        "**Question 4.3.2**\n",
        "\n",
        "*Write your observations about the Classifier’s behavior with respect to the number of estimators.*\n",
        "\n",
        "This model has a spike in accuracy at 100 estimators. The accuracy slowly decreases as the amount of trees increases."
      ],
      "metadata": {
        "id": "eoxttexmVS6O"
      }
    },
    {
      "cell_type": "markdown",
      "source": [
        "**Question 4.3.3**\n",
        "\n",
        "*Is there an optimal value of the estimator within the given range?*\n",
        "\n",
        "Yes, the optimal estimator for the Extreme Gradient Boost model is 100."
      ],
      "metadata": {
        "id": "XnRMZY4yVeSV"
      }
    },
    {
      "cell_type": "markdown",
      "source": [
        "**PART 5**\n",
        " \n",
        "*3. Compare Performance *\n",
        "\n",
        "Keep all common Hyper-parameters same for four models (Random Forest, AdaBoost, \n",
        "Gradient Boost, XGB), run them again and create a performance comparison table \n",
        "within your code and print the same as follows:"
      ],
      "metadata": {
        "id": "6wq2DkVvVzWy"
      }
    },
    {
      "cell_type": "code",
      "source": [
        "from sklearn.metrics import roc_auc_score\n",
        "from tabulate import tabulate\n",
        "\n",
        "# Create a results set\n",
        "results = [['Model', 'Accuracy', 'ROC AUC']]\n",
        "\n",
        "# Create the models\n",
        "rf_model = RandomForestClassifier(n_estimators = 100, random_state=1)\n",
        "adab_model = AdaBoostClassifier(n_estimators = 100, random_state=1)\n",
        "gb_model = GradientBoostingClassifier(n_estimators = 100, random_state=1)\n",
        "xgb_model = xgb.XGBClassifier(n_estimators = 100, random_state=1)\n",
        "\n",
        "# Create a list of models to loop through\n",
        "models = rf_model, adab_model, gb_model, xgb_model\n",
        "\n",
        "# Loop through the models\n",
        "for i in models:\n",
        "  model = i\n",
        "  # Fit the model on the whole dataset\n",
        "  model.fit(x_train, y_train)\n",
        "  # Predict the outcomes y of the test data using the x inputs\n",
        "  y_pred = model.predict(x_test)\n",
        "  # Calculate the accuracy score of the model\n",
        "  accuracy = np.mean(y_test==y_pred)\n",
        "  # Calculate the roc auc score of the model\n",
        "  auc_score = metrics.roc_auc_score(y_test, y_pred)\n",
        "  # Append the accuracy and auc scores to the list\n",
        "  results.append([i, accuracy, auc_score])\n",
        "\n",
        "# Format the results in a table\n",
        "print(tabulate(results))"
      ],
      "metadata": {
        "colab": {
          "base_uri": "https://localhost:8080/"
        },
        "id": "p7m3v6cICGho",
        "outputId": "c7abb8bb-6854-4a2a-be01-623ec5faf90f"
      },
      "execution_count": null,
      "outputs": [
        {
          "output_type": "stream",
          "name": "stdout",
          "text": [
            "----------------------------------------------------  ------------------  ------------------\n",
            "Model                                                 Accuracy            ROC AUC\n",
            "RandomForestClassifier(random_state=1)                0.8369879000061421  0.7470970105390464\n",
            "AdaBoostClassifier(n_estimators=100, random_state=1)  0.8447884036607088  0.7460076328264228\n",
            "GradientBoostingClassifier(random_state=1)            0.8465696210306493  0.7548961620708495\n",
            "XGBClassifier(random_state=1)                         0.8473680977826915  0.7540719385108337\n",
            "----------------------------------------------------  ------------------  ------------------\n"
          ]
        }
      ]
    }
  ]
}